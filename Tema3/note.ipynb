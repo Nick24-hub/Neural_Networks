{
 "cells": [
  {
   "cell_type": "code",
   "execution_count": 13,
   "metadata": {
    "collapsed": true
   },
   "outputs": [],
   "source": [
    "import copy\n",
    "import pickle, gzip\n",
    "import numpy as np\n",
    "\n",
    "batch_size = 5000\n",
    "input_layer_size = 784\n",
    "hidden_layer_size = 100\n",
    "output_layer_size = 10\n",
    "\n",
    "with gzip.open('mnist.pkl.gz', 'rb') as fd:\n",
    "    train_set, valid_set, test_set = pickle.load(fd, encoding='latin')"
   ]
  },
  {
   "cell_type": "code",
   "execution_count": 14,
   "outputs": [],
   "source": [
    "xl1 = [0 for i in range(input_layer_size)]\n",
    "xl2 = [0 for i in range(hidden_layer_size)]\n",
    "xl3 = [0 for i in range(output_layer_size)]\n",
    "X = (xl1, xl2, xl3)\n"
   ],
   "metadata": {
    "collapsed": false,
    "pycharm": {
     "name": "#%%\n"
    }
   }
  },
  {
   "cell_type": "code",
   "execution_count": 15,
   "outputs": [],
   "source": [
    "wl1 = [[np.random.randn() for i in range(input_layer_size)] for j in range(hidden_layer_size)]\n",
    "wl2 = [[np.random.randn() for i in range(hidden_layer_size)] for j in range(output_layer_size)]\n",
    "W = (wl1, wl2)"
   ],
   "metadata": {
    "collapsed": false,
    "pycharm": {
     "name": "#%%\n"
    }
   }
  },
  {
   "cell_type": "code",
   "execution_count": 16,
   "outputs": [],
   "source": [
    "bl1 = [np.random.randn() for i in range(hidden_layer_size)]\n",
    "bl2 = [np.random.randn() for i in range(output_layer_size)]\n",
    "B = (bl1, bl2)\n"
   ],
   "metadata": {
    "collapsed": false,
    "pycharm": {
     "name": "#%%\n"
    }
   }
  },
  {
   "cell_type": "code",
   "execution_count": 17,
   "outputs": [
    {
     "name": "stdout",
     "output_type": "stream",
     "text": [
      "\n",
      "\n",
      "\n",
      "[9.99994720e-01 9.99992222e-01 9.94779373e-01 9.99757006e-01\n",
      " 9.82975571e-01 9.99967333e-01 3.95915817e-01 9.82244859e-01\n",
      " 7.47938956e-05 2.29182053e-01 1.10008349e-01 1.17044140e-03\n",
      " 2.51182025e-06 9.99549293e-01 4.48452551e-07 9.99959758e-01\n",
      " 1.50901456e-02 6.08103108e-01 1.99169070e-05 9.95562467e-01\n",
      " 3.96820661e-06 5.62428944e-09 9.99726566e-01 2.60456675e-01\n",
      " 9.96571288e-01 9.99964570e-01 9.83935683e-01 6.86774822e-03\n",
      " 5.47813779e-04 9.99991867e-01 9.99913139e-01 9.99873253e-01\n",
      " 9.99994177e-01 1.49396632e-03 9.99999912e-01 2.89888079e-03\n",
      " 1.19310959e-06 8.33467403e-02 5.63994370e-02 1.00000000e+00\n",
      " 6.97082143e-01 8.42611465e-01 3.54923981e-01 3.11011353e-01\n",
      " 9.21065405e-04 2.46891733e-03 5.20015816e-01 9.22566667e-01\n",
      " 9.94439470e-01 2.72759035e-06 9.80413278e-01 8.21048760e-06\n",
      " 8.73112022e-01 6.73742233e-07 9.99139260e-01 6.36628616e-01\n",
      " 1.66086545e-07 3.13281467e-05 2.50316267e-03 9.99946187e-01\n",
      " 6.05844478e-01 5.57855288e-09 1.00000000e+00 4.75842299e-01\n",
      " 9.79844134e-01 7.10021569e-01 1.69451140e-02 9.98295853e-01\n",
      " 9.61726014e-04 9.05480675e-01 7.80156833e-07 8.18825986e-01\n",
      " 8.86242468e-01 9.98243844e-01 9.99980909e-01 8.50739779e-01\n",
      " 9.99939290e-01 2.30900444e-04 5.55560596e-01 9.83328790e-01\n",
      " 9.98815365e-01 7.97402160e-06 9.79365501e-01 9.92817123e-01\n",
      " 3.80922849e-06 2.83995166e-04 9.99839660e-01 4.32695108e-07\n",
      " 1.24045867e-03 9.99775625e-01 7.42126428e-01 9.96444816e-01\n",
      " 5.63833846e-01 9.99999202e-01 5.08637691e-05 9.99999545e-01\n",
      " 9.99768321e-01 8.77365567e-01 8.53043360e-03 1.10298190e-05]\n"
     ]
    }
   ],
   "source": [
    "def sigmoid(X):\n",
    "    return 1 / (1 + np.exp(-X))\n",
    "\n",
    "\n",
    "xl1 = copy.deepcopy(train_set[0][0])\n",
    "print(\"\\n\\n\")\n",
    "xl2 = sigmoid(np.dot(wl1, xl1) + bl1)\n",
    "print(xl2)\n"
   ],
   "metadata": {
    "collapsed": false,
    "pycharm": {
     "name": "#%%\n"
    }
   }
  }
 ],
 "metadata": {
  "kernelspec": {
   "display_name": "Python 3",
   "language": "python",
   "name": "python3"
  },
  "language_info": {
   "codemirror_mode": {
    "name": "ipython",
    "version": 2
   },
   "file_extension": ".py",
   "mimetype": "text/x-python",
   "name": "python",
   "nbconvert_exporter": "python",
   "pygments_lexer": "ipython2",
   "version": "2.7.6"
  }
 },
 "nbformat": 4,
 "nbformat_minor": 0
}